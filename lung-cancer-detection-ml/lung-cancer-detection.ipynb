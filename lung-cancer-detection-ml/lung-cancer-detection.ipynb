{
 "cells": [
  {
   "cell_type": "markdown",
   "id": "785e8ee8",
   "metadata": {
    "papermill": {
     "duration": 0.019698,
     "end_time": "2024-03-20T04:23:32.886411",
     "exception": false,
     "start_time": "2024-03-20T04:23:32.866713",
     "status": "completed"
    },
    "tags": []
   },
   "source": [
    "# Import Needed Libraries"
   ]
  },
  {
   "cell_type": "code",
   "execution_count": 1,
   "id": "775fc1e6eaa71de8",
   "metadata": {
    "jupyter": {
     "is_executing": true
    }
   },
   "outputs": [],
   "source": [
    "import tensorflow"
   ]
  },
  {
   "cell_type": "code",
   "execution_count": 2,
   "id": "2d5a45a6",
   "metadata": {
    "execution": {
     "iopub.execute_input": "2024-03-20T04:23:32.923613Z",
     "iopub.status.busy": "2024-03-20T04:23:32.923200Z",
     "iopub.status.idle": "2024-03-20T04:23:35.858887Z",
     "shell.execute_reply": "2024-03-20T04:23:35.857677Z"
    },
    "jupyter": {
     "is_executing": true
    },
    "papermill": {
     "duration": 2.957357,
     "end_time": "2024-03-20T04:23:35.861731",
     "exception": false,
     "start_time": "2024-03-20T04:23:32.904374",
     "status": "completed"
    },
    "tags": []
   },
   "outputs": [],
   "source": [
    "import numpy as np\n",
    "import pandas as pd\n",
    "import matplotlib.pyplot as plt\n",
    "import seaborn as sns\n",
    "from sklearn.svm import SVC\n",
    "from sklearn.ensemble import RandomForestClassifier\n",
    "from sklearn.tree import DecisionTreeClassifier\n",
    "from sklearn.metrics import confusion_matrix, classification_report , accuracy_score\n",
    "from sklearn.model_selection import train_test_split\n",
    "\n",
    "import warnings\n",
    "warnings.filterwarnings(\"ignore\")"
   ]
  },
  {
   "cell_type": "markdown",
   "id": "f8c51ddb",
   "metadata": {
    "papermill": {
     "duration": 0.016981,
     "end_time": "2024-03-20T04:23:35.896338",
     "exception": false,
     "start_time": "2024-03-20T04:23:35.879357",
     "status": "completed"
    },
    "tags": []
   },
   "source": [
    "Import the data"
   ]
  },
  {
   "cell_type": "code",
   "execution_count": 3,
   "id": "6a565675",
   "metadata": {
    "execution": {
     "iopub.execute_input": "2024-03-20T04:23:35.936056Z",
     "iopub.status.busy": "2024-03-20T04:23:35.935161Z",
     "iopub.status.idle": "2024-03-20T04:23:35.959654Z",
     "shell.execute_reply": "2024-03-20T04:23:35.958812Z"
    },
    "papermill": {
     "duration": 0.047696,
     "end_time": "2024-03-20T04:23:35.962348",
     "exception": false,
     "start_time": "2024-03-20T04:23:35.914652",
     "status": "completed"
    },
    "tags": []
   },
   "outputs": [],
   "source": [
    "df=pd.read_csv('survey lung cancer.csv')"
   ]
  },
  {
   "cell_type": "markdown",
   "id": "5dae4ee5",
   "metadata": {
    "papermill": {
     "duration": 0.016997,
     "end_time": "2024-03-20T04:23:35.996796",
     "exception": false,
     "start_time": "2024-03-20T04:23:35.979799",
     "status": "completed"
    },
    "tags": []
   },
   "source": [
    "read sample of data"
   ]
  },
  {
   "cell_type": "code",
   "execution_count": 4,
   "id": "befcb260",
   "metadata": {
    "execution": {
     "iopub.execute_input": "2024-03-20T04:23:36.033645Z",
     "iopub.status.busy": "2024-03-20T04:23:36.032825Z",
     "iopub.status.idle": "2024-03-20T04:23:36.059156Z",
     "shell.execute_reply": "2024-03-20T04:23:36.057725Z"
    },
    "papermill": {
     "duration": 0.048151,
     "end_time": "2024-03-20T04:23:36.062121",
     "exception": false,
     "start_time": "2024-03-20T04:23:36.013970",
     "status": "completed"
    },
    "tags": []
   },
   "outputs": [
    {
     "data": {
      "text/html": [
       "<div>\n",
       "<style scoped>\n",
       "    .dataframe tbody tr th:only-of-type {\n",
       "        vertical-align: middle;\n",
       "    }\n",
       "\n",
       "    .dataframe tbody tr th {\n",
       "        vertical-align: top;\n",
       "    }\n",
       "\n",
       "    .dataframe thead th {\n",
       "        text-align: right;\n",
       "    }\n",
       "</style>\n",
       "<table border=\"1\" class=\"dataframe\">\n",
       "  <thead>\n",
       "    <tr style=\"text-align: right;\">\n",
       "      <th></th>\n",
       "      <th>GENDER</th>\n",
       "      <th>AGE</th>\n",
       "      <th>SMOKING</th>\n",
       "      <th>YELLOW_FINGERS</th>\n",
       "      <th>ANXIETY</th>\n",
       "      <th>PEER_PRESSURE</th>\n",
       "      <th>CHRONIC DISEASE</th>\n",
       "      <th>FATIGUE</th>\n",
       "      <th>ALLERGY</th>\n",
       "      <th>WHEEZING</th>\n",
       "      <th>ALCOHOL CONSUMING</th>\n",
       "      <th>COUGHING</th>\n",
       "      <th>SHORTNESS OF BREATH</th>\n",
       "      <th>SWALLOWING DIFFICULTY</th>\n",
       "      <th>CHEST PAIN</th>\n",
       "      <th>LUNG_CANCER</th>\n",
       "    </tr>\n",
       "  </thead>\n",
       "  <tbody>\n",
       "    <tr>\n",
       "      <th>0</th>\n",
       "      <td>M</td>\n",
       "      <td>69</td>\n",
       "      <td>1</td>\n",
       "      <td>2</td>\n",
       "      <td>2</td>\n",
       "      <td>1</td>\n",
       "      <td>1</td>\n",
       "      <td>2</td>\n",
       "      <td>1</td>\n",
       "      <td>2</td>\n",
       "      <td>2</td>\n",
       "      <td>2</td>\n",
       "      <td>2</td>\n",
       "      <td>2</td>\n",
       "      <td>2</td>\n",
       "      <td>YES</td>\n",
       "    </tr>\n",
       "    <tr>\n",
       "      <th>1</th>\n",
       "      <td>M</td>\n",
       "      <td>74</td>\n",
       "      <td>2</td>\n",
       "      <td>1</td>\n",
       "      <td>1</td>\n",
       "      <td>1</td>\n",
       "      <td>2</td>\n",
       "      <td>2</td>\n",
       "      <td>2</td>\n",
       "      <td>1</td>\n",
       "      <td>1</td>\n",
       "      <td>1</td>\n",
       "      <td>2</td>\n",
       "      <td>2</td>\n",
       "      <td>2</td>\n",
       "      <td>YES</td>\n",
       "    </tr>\n",
       "    <tr>\n",
       "      <th>2</th>\n",
       "      <td>F</td>\n",
       "      <td>59</td>\n",
       "      <td>1</td>\n",
       "      <td>1</td>\n",
       "      <td>1</td>\n",
       "      <td>2</td>\n",
       "      <td>1</td>\n",
       "      <td>2</td>\n",
       "      <td>1</td>\n",
       "      <td>2</td>\n",
       "      <td>1</td>\n",
       "      <td>2</td>\n",
       "      <td>2</td>\n",
       "      <td>1</td>\n",
       "      <td>2</td>\n",
       "      <td>NO</td>\n",
       "    </tr>\n",
       "    <tr>\n",
       "      <th>3</th>\n",
       "      <td>M</td>\n",
       "      <td>63</td>\n",
       "      <td>2</td>\n",
       "      <td>2</td>\n",
       "      <td>2</td>\n",
       "      <td>1</td>\n",
       "      <td>1</td>\n",
       "      <td>1</td>\n",
       "      <td>1</td>\n",
       "      <td>1</td>\n",
       "      <td>2</td>\n",
       "      <td>1</td>\n",
       "      <td>1</td>\n",
       "      <td>2</td>\n",
       "      <td>2</td>\n",
       "      <td>NO</td>\n",
       "    </tr>\n",
       "    <tr>\n",
       "      <th>4</th>\n",
       "      <td>F</td>\n",
       "      <td>63</td>\n",
       "      <td>1</td>\n",
       "      <td>2</td>\n",
       "      <td>1</td>\n",
       "      <td>1</td>\n",
       "      <td>1</td>\n",
       "      <td>1</td>\n",
       "      <td>1</td>\n",
       "      <td>2</td>\n",
       "      <td>1</td>\n",
       "      <td>2</td>\n",
       "      <td>2</td>\n",
       "      <td>1</td>\n",
       "      <td>1</td>\n",
       "      <td>NO</td>\n",
       "    </tr>\n",
       "    <tr>\n",
       "      <th>5</th>\n",
       "      <td>F</td>\n",
       "      <td>75</td>\n",
       "      <td>1</td>\n",
       "      <td>2</td>\n",
       "      <td>1</td>\n",
       "      <td>1</td>\n",
       "      <td>2</td>\n",
       "      <td>2</td>\n",
       "      <td>2</td>\n",
       "      <td>2</td>\n",
       "      <td>1</td>\n",
       "      <td>2</td>\n",
       "      <td>2</td>\n",
       "      <td>1</td>\n",
       "      <td>1</td>\n",
       "      <td>YES</td>\n",
       "    </tr>\n",
       "    <tr>\n",
       "      <th>6</th>\n",
       "      <td>M</td>\n",
       "      <td>52</td>\n",
       "      <td>2</td>\n",
       "      <td>1</td>\n",
       "      <td>1</td>\n",
       "      <td>1</td>\n",
       "      <td>1</td>\n",
       "      <td>2</td>\n",
       "      <td>1</td>\n",
       "      <td>2</td>\n",
       "      <td>2</td>\n",
       "      <td>2</td>\n",
       "      <td>2</td>\n",
       "      <td>1</td>\n",
       "      <td>2</td>\n",
       "      <td>YES</td>\n",
       "    </tr>\n",
       "    <tr>\n",
       "      <th>7</th>\n",
       "      <td>F</td>\n",
       "      <td>51</td>\n",
       "      <td>2</td>\n",
       "      <td>2</td>\n",
       "      <td>2</td>\n",
       "      <td>2</td>\n",
       "      <td>1</td>\n",
       "      <td>2</td>\n",
       "      <td>2</td>\n",
       "      <td>1</td>\n",
       "      <td>1</td>\n",
       "      <td>1</td>\n",
       "      <td>2</td>\n",
       "      <td>2</td>\n",
       "      <td>1</td>\n",
       "      <td>YES</td>\n",
       "    </tr>\n",
       "    <tr>\n",
       "      <th>8</th>\n",
       "      <td>F</td>\n",
       "      <td>68</td>\n",
       "      <td>2</td>\n",
       "      <td>1</td>\n",
       "      <td>2</td>\n",
       "      <td>1</td>\n",
       "      <td>1</td>\n",
       "      <td>2</td>\n",
       "      <td>1</td>\n",
       "      <td>1</td>\n",
       "      <td>1</td>\n",
       "      <td>1</td>\n",
       "      <td>1</td>\n",
       "      <td>1</td>\n",
       "      <td>1</td>\n",
       "      <td>NO</td>\n",
       "    </tr>\n",
       "    <tr>\n",
       "      <th>9</th>\n",
       "      <td>M</td>\n",
       "      <td>53</td>\n",
       "      <td>2</td>\n",
       "      <td>2</td>\n",
       "      <td>2</td>\n",
       "      <td>2</td>\n",
       "      <td>2</td>\n",
       "      <td>1</td>\n",
       "      <td>2</td>\n",
       "      <td>1</td>\n",
       "      <td>2</td>\n",
       "      <td>1</td>\n",
       "      <td>1</td>\n",
       "      <td>2</td>\n",
       "      <td>2</td>\n",
       "      <td>YES</td>\n",
       "    </tr>\n",
       "  </tbody>\n",
       "</table>\n",
       "</div>"
      ],
      "text/plain": [
       "  GENDER  AGE  SMOKING  YELLOW_FINGERS  ANXIETY  PEER_PRESSURE  \\\n",
       "0      M   69        1               2        2              1   \n",
       "1      M   74        2               1        1              1   \n",
       "2      F   59        1               1        1              2   \n",
       "3      M   63        2               2        2              1   \n",
       "4      F   63        1               2        1              1   \n",
       "5      F   75        1               2        1              1   \n",
       "6      M   52        2               1        1              1   \n",
       "7      F   51        2               2        2              2   \n",
       "8      F   68        2               1        2              1   \n",
       "9      M   53        2               2        2              2   \n",
       "\n",
       "   CHRONIC DISEASE  FATIGUE   ALLERGY   WHEEZING  ALCOHOL CONSUMING  COUGHING  \\\n",
       "0                1         2         1         2                  2         2   \n",
       "1                2         2         2         1                  1         1   \n",
       "2                1         2         1         2                  1         2   \n",
       "3                1         1         1         1                  2         1   \n",
       "4                1         1         1         2                  1         2   \n",
       "5                2         2         2         2                  1         2   \n",
       "6                1         2         1         2                  2         2   \n",
       "7                1         2         2         1                  1         1   \n",
       "8                1         2         1         1                  1         1   \n",
       "9                2         1         2         1                  2         1   \n",
       "\n",
       "   SHORTNESS OF BREATH  SWALLOWING DIFFICULTY  CHEST PAIN LUNG_CANCER  \n",
       "0                    2                      2           2         YES  \n",
       "1                    2                      2           2         YES  \n",
       "2                    2                      1           2          NO  \n",
       "3                    1                      2           2          NO  \n",
       "4                    2                      1           1          NO  \n",
       "5                    2                      1           1         YES  \n",
       "6                    2                      1           2         YES  \n",
       "7                    2                      2           1         YES  \n",
       "8                    1                      1           1          NO  \n",
       "9                    1                      2           2         YES  "
      ]
     },
     "execution_count": 4,
     "metadata": {},
     "output_type": "execute_result"
    }
   ],
   "source": [
    "df.head(10)"
   ]
  },
  {
   "cell_type": "code",
   "execution_count": 5,
   "id": "cdc0c04d",
   "metadata": {
    "execution": {
     "iopub.execute_input": "2024-03-20T04:23:36.100241Z",
     "iopub.status.busy": "2024-03-20T04:23:36.099647Z",
     "iopub.status.idle": "2024-03-20T04:23:36.117807Z",
     "shell.execute_reply": "2024-03-20T04:23:36.116705Z"
    },
    "papermill": {
     "duration": 0.040114,
     "end_time": "2024-03-20T04:23:36.120251",
     "exception": false,
     "start_time": "2024-03-20T04:23:36.080137",
     "status": "completed"
    },
    "tags": []
   },
   "outputs": [
    {
     "data": {
      "text/html": [
       "<div>\n",
       "<style scoped>\n",
       "    .dataframe tbody tr th:only-of-type {\n",
       "        vertical-align: middle;\n",
       "    }\n",
       "\n",
       "    .dataframe tbody tr th {\n",
       "        vertical-align: top;\n",
       "    }\n",
       "\n",
       "    .dataframe thead th {\n",
       "        text-align: right;\n",
       "    }\n",
       "</style>\n",
       "<table border=\"1\" class=\"dataframe\">\n",
       "  <thead>\n",
       "    <tr style=\"text-align: right;\">\n",
       "      <th></th>\n",
       "      <th>GENDER</th>\n",
       "      <th>AGE</th>\n",
       "      <th>SMOKING</th>\n",
       "      <th>YELLOW_FINGERS</th>\n",
       "      <th>ANXIETY</th>\n",
       "      <th>PEER_PRESSURE</th>\n",
       "      <th>CHRONIC DISEASE</th>\n",
       "      <th>FATIGUE</th>\n",
       "      <th>ALLERGY</th>\n",
       "      <th>WHEEZING</th>\n",
       "      <th>ALCOHOL CONSUMING</th>\n",
       "      <th>COUGHING</th>\n",
       "      <th>SHORTNESS OF BREATH</th>\n",
       "      <th>SWALLOWING DIFFICULTY</th>\n",
       "      <th>CHEST PAIN</th>\n",
       "      <th>LUNG_CANCER</th>\n",
       "    </tr>\n",
       "  </thead>\n",
       "  <tbody>\n",
       "    <tr>\n",
       "      <th>304</th>\n",
       "      <td>F</td>\n",
       "      <td>56</td>\n",
       "      <td>1</td>\n",
       "      <td>1</td>\n",
       "      <td>1</td>\n",
       "      <td>2</td>\n",
       "      <td>2</td>\n",
       "      <td>2</td>\n",
       "      <td>1</td>\n",
       "      <td>1</td>\n",
       "      <td>2</td>\n",
       "      <td>2</td>\n",
       "      <td>2</td>\n",
       "      <td>2</td>\n",
       "      <td>1</td>\n",
       "      <td>YES</td>\n",
       "    </tr>\n",
       "    <tr>\n",
       "      <th>305</th>\n",
       "      <td>M</td>\n",
       "      <td>70</td>\n",
       "      <td>2</td>\n",
       "      <td>1</td>\n",
       "      <td>1</td>\n",
       "      <td>1</td>\n",
       "      <td>1</td>\n",
       "      <td>2</td>\n",
       "      <td>2</td>\n",
       "      <td>2</td>\n",
       "      <td>2</td>\n",
       "      <td>2</td>\n",
       "      <td>2</td>\n",
       "      <td>1</td>\n",
       "      <td>2</td>\n",
       "      <td>YES</td>\n",
       "    </tr>\n",
       "    <tr>\n",
       "      <th>306</th>\n",
       "      <td>M</td>\n",
       "      <td>58</td>\n",
       "      <td>2</td>\n",
       "      <td>1</td>\n",
       "      <td>1</td>\n",
       "      <td>1</td>\n",
       "      <td>1</td>\n",
       "      <td>1</td>\n",
       "      <td>2</td>\n",
       "      <td>2</td>\n",
       "      <td>2</td>\n",
       "      <td>2</td>\n",
       "      <td>1</td>\n",
       "      <td>1</td>\n",
       "      <td>2</td>\n",
       "      <td>YES</td>\n",
       "    </tr>\n",
       "    <tr>\n",
       "      <th>307</th>\n",
       "      <td>M</td>\n",
       "      <td>67</td>\n",
       "      <td>2</td>\n",
       "      <td>1</td>\n",
       "      <td>2</td>\n",
       "      <td>1</td>\n",
       "      <td>1</td>\n",
       "      <td>2</td>\n",
       "      <td>2</td>\n",
       "      <td>1</td>\n",
       "      <td>2</td>\n",
       "      <td>2</td>\n",
       "      <td>2</td>\n",
       "      <td>1</td>\n",
       "      <td>2</td>\n",
       "      <td>YES</td>\n",
       "    </tr>\n",
       "    <tr>\n",
       "      <th>308</th>\n",
       "      <td>M</td>\n",
       "      <td>62</td>\n",
       "      <td>1</td>\n",
       "      <td>1</td>\n",
       "      <td>1</td>\n",
       "      <td>2</td>\n",
       "      <td>1</td>\n",
       "      <td>2</td>\n",
       "      <td>2</td>\n",
       "      <td>2</td>\n",
       "      <td>2</td>\n",
       "      <td>1</td>\n",
       "      <td>1</td>\n",
       "      <td>2</td>\n",
       "      <td>1</td>\n",
       "      <td>YES</td>\n",
       "    </tr>\n",
       "  </tbody>\n",
       "</table>\n",
       "</div>"
      ],
      "text/plain": [
       "    GENDER  AGE  SMOKING  YELLOW_FINGERS  ANXIETY  PEER_PRESSURE  \\\n",
       "304      F   56        1               1        1              2   \n",
       "305      M   70        2               1        1              1   \n",
       "306      M   58        2               1        1              1   \n",
       "307      M   67        2               1        2              1   \n",
       "308      M   62        1               1        1              2   \n",
       "\n",
       "     CHRONIC DISEASE  FATIGUE   ALLERGY   WHEEZING  ALCOHOL CONSUMING  \\\n",
       "304                2         2         1         1                  2   \n",
       "305                1         2         2         2                  2   \n",
       "306                1         1         2         2                  2   \n",
       "307                1         2         2         1                  2   \n",
       "308                1         2         2         2                  2   \n",
       "\n",
       "     COUGHING  SHORTNESS OF BREATH  SWALLOWING DIFFICULTY  CHEST PAIN  \\\n",
       "304         2                    2                      2           1   \n",
       "305         2                    2                      1           2   \n",
       "306         2                    1                      1           2   \n",
       "307         2                    2                      1           2   \n",
       "308         1                    1                      2           1   \n",
       "\n",
       "    LUNG_CANCER  \n",
       "304         YES  \n",
       "305         YES  \n",
       "306         YES  \n",
       "307         YES  \n",
       "308         YES  "
      ]
     },
     "execution_count": 5,
     "metadata": {},
     "output_type": "execute_result"
    }
   ],
   "source": [
    "df.tail(5)"
   ]
  },
  {
   "cell_type": "markdown",
   "id": "7bdadd2e",
   "metadata": {
    "papermill": {
     "duration": 0.017973,
     "end_time": "2024-03-20T04:23:36.156548",
     "exception": false,
     "start_time": "2024-03-20T04:23:36.138575",
     "status": "completed"
    },
    "tags": []
   },
   "source": [
    "# EDA"
   ]
  },
  {
   "cell_type": "code",
   "execution_count": 6,
   "id": "090c33d8",
   "metadata": {
    "execution": {
     "iopub.execute_input": "2024-03-20T04:23:36.194777Z",
     "iopub.status.busy": "2024-03-20T04:23:36.194357Z",
     "iopub.status.idle": "2024-03-20T04:23:36.201177Z",
     "shell.execute_reply": "2024-03-20T04:23:36.200268Z"
    },
    "papermill": {
     "duration": 0.028691,
     "end_time": "2024-03-20T04:23:36.203328",
     "exception": false,
     "start_time": "2024-03-20T04:23:36.174637",
     "status": "completed"
    },
    "tags": []
   },
   "outputs": [
    {
     "data": {
      "text/plain": [
       "(309, 16)"
      ]
     },
     "execution_count": 6,
     "metadata": {},
     "output_type": "execute_result"
    }
   ],
   "source": [
    "df.shape"
   ]
  },
  {
   "cell_type": "code",
   "execution_count": 7,
   "id": "62038ab1",
   "metadata": {
    "execution": {
     "iopub.execute_input": "2024-03-20T04:23:36.242639Z",
     "iopub.status.busy": "2024-03-20T04:23:36.241633Z",
     "iopub.status.idle": "2024-03-20T04:23:36.250895Z",
     "shell.execute_reply": "2024-03-20T04:23:36.249811Z"
    },
    "papermill": {
     "duration": 0.031188,
     "end_time": "2024-03-20T04:23:36.253242",
     "exception": false,
     "start_time": "2024-03-20T04:23:36.222054",
     "status": "completed"
    },
    "tags": []
   },
   "outputs": [
    {
     "data": {
      "text/plain": [
       "GENDER                   object\n",
       "AGE                       int64\n",
       "SMOKING                   int64\n",
       "YELLOW_FINGERS            int64\n",
       "ANXIETY                   int64\n",
       "PEER_PRESSURE             int64\n",
       "CHRONIC DISEASE           int64\n",
       "FATIGUE                   int64\n",
       "ALLERGY                   int64\n",
       "WHEEZING                  int64\n",
       "ALCOHOL CONSUMING         int64\n",
       "COUGHING                  int64\n",
       "SHORTNESS OF BREATH       int64\n",
       "SWALLOWING DIFFICULTY     int64\n",
       "CHEST PAIN                int64\n",
       "LUNG_CANCER              object\n",
       "dtype: object"
      ]
     },
     "execution_count": 7,
     "metadata": {},
     "output_type": "execute_result"
    }
   ],
   "source": [
    "#checking datatypes\n",
    "df.dtypes"
   ]
  },
  {
   "cell_type": "code",
   "execution_count": 8,
   "id": "8af20407",
   "metadata": {
    "execution": {
     "iopub.execute_input": "2024-03-20T04:23:36.294242Z",
     "iopub.status.busy": "2024-03-20T04:23:36.293820Z",
     "iopub.status.idle": "2024-03-20T04:23:36.349953Z",
     "shell.execute_reply": "2024-03-20T04:23:36.348677Z"
    },
    "papermill": {
     "duration": 0.079725,
     "end_time": "2024-03-20T04:23:36.353594",
     "exception": false,
     "start_time": "2024-03-20T04:23:36.273869",
     "status": "completed"
    },
    "tags": []
   },
   "outputs": [
    {
     "data": {
      "text/html": [
       "<div>\n",
       "<style scoped>\n",
       "    .dataframe tbody tr th:only-of-type {\n",
       "        vertical-align: middle;\n",
       "    }\n",
       "\n",
       "    .dataframe tbody tr th {\n",
       "        vertical-align: top;\n",
       "    }\n",
       "\n",
       "    .dataframe thead th {\n",
       "        text-align: right;\n",
       "    }\n",
       "</style>\n",
       "<table border=\"1\" class=\"dataframe\">\n",
       "  <thead>\n",
       "    <tr style=\"text-align: right;\">\n",
       "      <th></th>\n",
       "      <th>AGE</th>\n",
       "      <th>SMOKING</th>\n",
       "      <th>YELLOW_FINGERS</th>\n",
       "      <th>ANXIETY</th>\n",
       "      <th>PEER_PRESSURE</th>\n",
       "      <th>CHRONIC DISEASE</th>\n",
       "      <th>FATIGUE</th>\n",
       "      <th>ALLERGY</th>\n",
       "      <th>WHEEZING</th>\n",
       "      <th>ALCOHOL CONSUMING</th>\n",
       "      <th>COUGHING</th>\n",
       "      <th>SHORTNESS OF BREATH</th>\n",
       "      <th>SWALLOWING DIFFICULTY</th>\n",
       "      <th>CHEST PAIN</th>\n",
       "    </tr>\n",
       "  </thead>\n",
       "  <tbody>\n",
       "    <tr>\n",
       "      <th>count</th>\n",
       "      <td>309.000000</td>\n",
       "      <td>309.000000</td>\n",
       "      <td>309.000000</td>\n",
       "      <td>309.000000</td>\n",
       "      <td>309.000000</td>\n",
       "      <td>309.000000</td>\n",
       "      <td>309.000000</td>\n",
       "      <td>309.000000</td>\n",
       "      <td>309.000000</td>\n",
       "      <td>309.000000</td>\n",
       "      <td>309.000000</td>\n",
       "      <td>309.000000</td>\n",
       "      <td>309.000000</td>\n",
       "      <td>309.000000</td>\n",
       "    </tr>\n",
       "    <tr>\n",
       "      <th>mean</th>\n",
       "      <td>62.673139</td>\n",
       "      <td>1.563107</td>\n",
       "      <td>1.569579</td>\n",
       "      <td>1.498382</td>\n",
       "      <td>1.501618</td>\n",
       "      <td>1.504854</td>\n",
       "      <td>1.673139</td>\n",
       "      <td>1.556634</td>\n",
       "      <td>1.556634</td>\n",
       "      <td>1.556634</td>\n",
       "      <td>1.579288</td>\n",
       "      <td>1.640777</td>\n",
       "      <td>1.469256</td>\n",
       "      <td>1.556634</td>\n",
       "    </tr>\n",
       "    <tr>\n",
       "      <th>std</th>\n",
       "      <td>8.210301</td>\n",
       "      <td>0.496806</td>\n",
       "      <td>0.495938</td>\n",
       "      <td>0.500808</td>\n",
       "      <td>0.500808</td>\n",
       "      <td>0.500787</td>\n",
       "      <td>0.469827</td>\n",
       "      <td>0.497588</td>\n",
       "      <td>0.497588</td>\n",
       "      <td>0.497588</td>\n",
       "      <td>0.494474</td>\n",
       "      <td>0.480551</td>\n",
       "      <td>0.499863</td>\n",
       "      <td>0.497588</td>\n",
       "    </tr>\n",
       "    <tr>\n",
       "      <th>min</th>\n",
       "      <td>21.000000</td>\n",
       "      <td>1.000000</td>\n",
       "      <td>1.000000</td>\n",
       "      <td>1.000000</td>\n",
       "      <td>1.000000</td>\n",
       "      <td>1.000000</td>\n",
       "      <td>1.000000</td>\n",
       "      <td>1.000000</td>\n",
       "      <td>1.000000</td>\n",
       "      <td>1.000000</td>\n",
       "      <td>1.000000</td>\n",
       "      <td>1.000000</td>\n",
       "      <td>1.000000</td>\n",
       "      <td>1.000000</td>\n",
       "    </tr>\n",
       "    <tr>\n",
       "      <th>25%</th>\n",
       "      <td>57.000000</td>\n",
       "      <td>1.000000</td>\n",
       "      <td>1.000000</td>\n",
       "      <td>1.000000</td>\n",
       "      <td>1.000000</td>\n",
       "      <td>1.000000</td>\n",
       "      <td>1.000000</td>\n",
       "      <td>1.000000</td>\n",
       "      <td>1.000000</td>\n",
       "      <td>1.000000</td>\n",
       "      <td>1.000000</td>\n",
       "      <td>1.000000</td>\n",
       "      <td>1.000000</td>\n",
       "      <td>1.000000</td>\n",
       "    </tr>\n",
       "    <tr>\n",
       "      <th>50%</th>\n",
       "      <td>62.000000</td>\n",
       "      <td>2.000000</td>\n",
       "      <td>2.000000</td>\n",
       "      <td>1.000000</td>\n",
       "      <td>2.000000</td>\n",
       "      <td>2.000000</td>\n",
       "      <td>2.000000</td>\n",
       "      <td>2.000000</td>\n",
       "      <td>2.000000</td>\n",
       "      <td>2.000000</td>\n",
       "      <td>2.000000</td>\n",
       "      <td>2.000000</td>\n",
       "      <td>1.000000</td>\n",
       "      <td>2.000000</td>\n",
       "    </tr>\n",
       "    <tr>\n",
       "      <th>75%</th>\n",
       "      <td>69.000000</td>\n",
       "      <td>2.000000</td>\n",
       "      <td>2.000000</td>\n",
       "      <td>2.000000</td>\n",
       "      <td>2.000000</td>\n",
       "      <td>2.000000</td>\n",
       "      <td>2.000000</td>\n",
       "      <td>2.000000</td>\n",
       "      <td>2.000000</td>\n",
       "      <td>2.000000</td>\n",
       "      <td>2.000000</td>\n",
       "      <td>2.000000</td>\n",
       "      <td>2.000000</td>\n",
       "      <td>2.000000</td>\n",
       "    </tr>\n",
       "    <tr>\n",
       "      <th>max</th>\n",
       "      <td>87.000000</td>\n",
       "      <td>2.000000</td>\n",
       "      <td>2.000000</td>\n",
       "      <td>2.000000</td>\n",
       "      <td>2.000000</td>\n",
       "      <td>2.000000</td>\n",
       "      <td>2.000000</td>\n",
       "      <td>2.000000</td>\n",
       "      <td>2.000000</td>\n",
       "      <td>2.000000</td>\n",
       "      <td>2.000000</td>\n",
       "      <td>2.000000</td>\n",
       "      <td>2.000000</td>\n",
       "      <td>2.000000</td>\n",
       "    </tr>\n",
       "  </tbody>\n",
       "</table>\n",
       "</div>"
      ],
      "text/plain": [
       "              AGE     SMOKING  YELLOW_FINGERS     ANXIETY  PEER_PRESSURE  \\\n",
       "count  309.000000  309.000000      309.000000  309.000000     309.000000   \n",
       "mean    62.673139    1.563107        1.569579    1.498382       1.501618   \n",
       "std      8.210301    0.496806        0.495938    0.500808       0.500808   \n",
       "min     21.000000    1.000000        1.000000    1.000000       1.000000   \n",
       "25%     57.000000    1.000000        1.000000    1.000000       1.000000   \n",
       "50%     62.000000    2.000000        2.000000    1.000000       2.000000   \n",
       "75%     69.000000    2.000000        2.000000    2.000000       2.000000   \n",
       "max     87.000000    2.000000        2.000000    2.000000       2.000000   \n",
       "\n",
       "       CHRONIC DISEASE    FATIGUE     ALLERGY     WHEEZING  ALCOHOL CONSUMING  \\\n",
       "count       309.000000  309.000000  309.000000  309.000000         309.000000   \n",
       "mean          1.504854    1.673139    1.556634    1.556634           1.556634   \n",
       "std           0.500787    0.469827    0.497588    0.497588           0.497588   \n",
       "min           1.000000    1.000000    1.000000    1.000000           1.000000   \n",
       "25%           1.000000    1.000000    1.000000    1.000000           1.000000   \n",
       "50%           2.000000    2.000000    2.000000    2.000000           2.000000   \n",
       "75%           2.000000    2.000000    2.000000    2.000000           2.000000   \n",
       "max           2.000000    2.000000    2.000000    2.000000           2.000000   \n",
       "\n",
       "         COUGHING  SHORTNESS OF BREATH  SWALLOWING DIFFICULTY  CHEST PAIN  \n",
       "count  309.000000           309.000000             309.000000  309.000000  \n",
       "mean     1.579288             1.640777               1.469256    1.556634  \n",
       "std      0.494474             0.480551               0.499863    0.497588  \n",
       "min      1.000000             1.000000               1.000000    1.000000  \n",
       "25%      1.000000             1.000000               1.000000    1.000000  \n",
       "50%      2.000000             2.000000               1.000000    2.000000  \n",
       "75%      2.000000             2.000000               2.000000    2.000000  \n",
       "max      2.000000             2.000000               2.000000    2.000000  "
      ]
     },
     "execution_count": 8,
     "metadata": {},
     "output_type": "execute_result"
    }
   ],
   "source": [
    "df.describe()"
   ]
  },
  {
   "cell_type": "code",
   "execution_count": 9,
   "id": "5b02adba",
   "metadata": {
    "execution": {
     "iopub.execute_input": "2024-03-20T04:23:36.394707Z",
     "iopub.status.busy": "2024-03-20T04:23:36.394024Z",
     "iopub.status.idle": "2024-03-20T04:23:36.412788Z",
     "shell.execute_reply": "2024-03-20T04:23:36.411642Z"
    },
    "papermill": {
     "duration": 0.042,
     "end_time": "2024-03-20T04:23:36.415198",
     "exception": false,
     "start_time": "2024-03-20T04:23:36.373198",
     "status": "completed"
    },
    "tags": []
   },
   "outputs": [
    {
     "data": {
      "text/html": [
       "<div>\n",
       "<style scoped>\n",
       "    .dataframe tbody tr th:only-of-type {\n",
       "        vertical-align: middle;\n",
       "    }\n",
       "\n",
       "    .dataframe tbody tr th {\n",
       "        vertical-align: top;\n",
       "    }\n",
       "\n",
       "    .dataframe thead th {\n",
       "        text-align: right;\n",
       "    }\n",
       "</style>\n",
       "<table border=\"1\" class=\"dataframe\">\n",
       "  <thead>\n",
       "    <tr style=\"text-align: right;\">\n",
       "      <th></th>\n",
       "      <th>GENDER</th>\n",
       "      <th>LUNG_CANCER</th>\n",
       "    </tr>\n",
       "  </thead>\n",
       "  <tbody>\n",
       "    <tr>\n",
       "      <th>count</th>\n",
       "      <td>309</td>\n",
       "      <td>309</td>\n",
       "    </tr>\n",
       "    <tr>\n",
       "      <th>unique</th>\n",
       "      <td>2</td>\n",
       "      <td>2</td>\n",
       "    </tr>\n",
       "    <tr>\n",
       "      <th>top</th>\n",
       "      <td>M</td>\n",
       "      <td>YES</td>\n",
       "    </tr>\n",
       "    <tr>\n",
       "      <th>freq</th>\n",
       "      <td>162</td>\n",
       "      <td>270</td>\n",
       "    </tr>\n",
       "  </tbody>\n",
       "</table>\n",
       "</div>"
      ],
      "text/plain": [
       "       GENDER LUNG_CANCER\n",
       "count     309         309\n",
       "unique      2           2\n",
       "top         M         YES\n",
       "freq      162         270"
      ]
     },
     "execution_count": 9,
     "metadata": {},
     "output_type": "execute_result"
    }
   ],
   "source": [
    "df.describe(include=\"object\")"
   ]
  },
  {
   "cell_type": "code",
   "execution_count": 10,
   "id": "26e71635",
   "metadata": {
    "execution": {
     "iopub.execute_input": "2024-03-20T04:23:36.456389Z",
     "iopub.status.busy": "2024-03-20T04:23:36.455699Z",
     "iopub.status.idle": "2024-03-20T04:23:36.463035Z",
     "shell.execute_reply": "2024-03-20T04:23:36.461811Z"
    },
    "papermill": {
     "duration": 0.03075,
     "end_time": "2024-03-20T04:23:36.465265",
     "exception": false,
     "start_time": "2024-03-20T04:23:36.434515",
     "status": "completed"
    },
    "tags": []
   },
   "outputs": [
    {
     "data": {
      "text/plain": [
       "['GENDER',\n",
       " 'AGE',\n",
       " 'SMOKING',\n",
       " 'YELLOW_FINGERS',\n",
       " 'ANXIETY',\n",
       " 'PEER_PRESSURE',\n",
       " 'CHRONIC DISEASE',\n",
       " 'FATIGUE ',\n",
       " 'ALLERGY ',\n",
       " 'WHEEZING',\n",
       " 'ALCOHOL CONSUMING',\n",
       " 'COUGHING',\n",
       " 'SHORTNESS OF BREATH',\n",
       " 'SWALLOWING DIFFICULTY',\n",
       " 'CHEST PAIN',\n",
       " 'LUNG_CANCER']"
      ]
     },
     "execution_count": 10,
     "metadata": {},
     "output_type": "execute_result"
    }
   ],
   "source": [
    "df.columns.tolist()"
   ]
  },
  {
   "cell_type": "code",
   "execution_count": 11,
   "id": "158d8285",
   "metadata": {
    "execution": {
     "iopub.execute_input": "2024-03-20T04:23:36.505934Z",
     "iopub.status.busy": "2024-03-20T04:23:36.505499Z",
     "iopub.status.idle": "2024-03-20T04:23:36.514314Z",
     "shell.execute_reply": "2024-03-20T04:23:36.513322Z"
    },
    "papermill": {
     "duration": 0.031845,
     "end_time": "2024-03-20T04:23:36.516435",
     "exception": false,
     "start_time": "2024-03-20T04:23:36.484590",
     "status": "completed"
    },
    "tags": []
   },
   "outputs": [
    {
     "data": {
      "text/plain": [
       "GENDER                   0\n",
       "AGE                      0\n",
       "SMOKING                  0\n",
       "YELLOW_FINGERS           0\n",
       "ANXIETY                  0\n",
       "PEER_PRESSURE            0\n",
       "CHRONIC DISEASE          0\n",
       "FATIGUE                  0\n",
       "ALLERGY                  0\n",
       "WHEEZING                 0\n",
       "ALCOHOL CONSUMING        0\n",
       "COUGHING                 0\n",
       "SHORTNESS OF BREATH      0\n",
       "SWALLOWING DIFFICULTY    0\n",
       "CHEST PAIN               0\n",
       "LUNG_CANCER              0\n",
       "dtype: int64"
      ]
     },
     "execution_count": 11,
     "metadata": {},
     "output_type": "execute_result"
    }
   ],
   "source": [
    "df.isnull().sum()"
   ]
  },
  {
   "cell_type": "markdown",
   "id": "ae2441d8",
   "metadata": {
    "papermill": {
     "duration": 0.019149,
     "end_time": "2024-03-20T04:23:36.555397",
     "exception": false,
     "start_time": "2024-03-20T04:23:36.536248",
     "status": "completed"
    },
    "tags": []
   },
   "source": [
    "check repeated rows"
   ]
  },
  {
   "cell_type": "code",
   "execution_count": 12,
   "id": "bec0b867",
   "metadata": {
    "execution": {
     "iopub.execute_input": "2024-03-20T04:23:36.596069Z",
     "iopub.status.busy": "2024-03-20T04:23:36.595662Z",
     "iopub.status.idle": "2024-03-20T04:23:36.608467Z",
     "shell.execute_reply": "2024-03-20T04:23:36.607369Z"
    },
    "papermill": {
     "duration": 0.035988,
     "end_time": "2024-03-20T04:23:36.610892",
     "exception": false,
     "start_time": "2024-03-20T04:23:36.574904",
     "status": "completed"
    },
    "tags": []
   },
   "outputs": [
    {
     "data": {
      "text/plain": [
       "33"
      ]
     },
     "execution_count": 12,
     "metadata": {},
     "output_type": "execute_result"
    }
   ],
   "source": [
    "df.duplicated().sum()"
   ]
  },
  {
   "cell_type": "code",
   "execution_count": 13,
   "id": "1f57bf4a",
   "metadata": {
    "execution": {
     "iopub.execute_input": "2024-03-20T04:23:36.651928Z",
     "iopub.status.busy": "2024-03-20T04:23:36.651494Z",
     "iopub.status.idle": "2024-03-20T04:23:36.668177Z",
     "shell.execute_reply": "2024-03-20T04:23:36.667023Z"
    },
    "papermill": {
     "duration": 0.04012,
     "end_time": "2024-03-20T04:23:36.670766",
     "exception": false,
     "start_time": "2024-03-20T04:23:36.630646",
     "status": "completed"
    },
    "tags": []
   },
   "outputs": [
    {
     "data": {
      "text/plain": [
       "0"
      ]
     },
     "execution_count": 13,
     "metadata": {},
     "output_type": "execute_result"
    }
   ],
   "source": [
    "#remove repeated rows\n",
    "df.drop_duplicates(inplace=True)\n",
    "# check that removing is done\n",
    "df.duplicated().sum()"
   ]
  },
  {
   "cell_type": "code",
   "execution_count": 14,
   "id": "0d1d9d9d",
   "metadata": {
    "execution": {
     "iopub.execute_input": "2024-03-20T04:23:36.713350Z",
     "iopub.status.busy": "2024-03-20T04:23:36.712626Z",
     "iopub.status.idle": "2024-03-20T04:23:36.720693Z",
     "shell.execute_reply": "2024-03-20T04:23:36.719769Z"
    },
    "papermill": {
     "duration": 0.032052,
     "end_time": "2024-03-20T04:23:36.723173",
     "exception": false,
     "start_time": "2024-03-20T04:23:36.691121",
     "status": "completed"
    },
    "tags": []
   },
   "outputs": [],
   "source": [
    "df['GENDER']=df['GENDER'].replace(['M', 'F'],[0,1])\n",
    "df['LUNG_CANCER']=df['LUNG_CANCER'].replace(['YES', 'NO'],[1,0])"
   ]
  },
  {
   "cell_type": "markdown",
   "id": "288300e9",
   "metadata": {
    "papermill": {
     "duration": 0.019394,
     "end_time": "2024-03-20T04:23:36.762357",
     "exception": false,
     "start_time": "2024-03-20T04:23:36.742963",
     "status": "completed"
    },
    "tags": []
   },
   "source": [
    "# target column"
   ]
  },
  {
   "cell_type": "code",
   "execution_count": 15,
   "id": "647a00a0",
   "metadata": {
    "execution": {
     "iopub.execute_input": "2024-03-20T04:23:36.804358Z",
     "iopub.status.busy": "2024-03-20T04:23:36.803665Z",
     "iopub.status.idle": "2024-03-20T04:23:36.812078Z",
     "shell.execute_reply": "2024-03-20T04:23:36.810941Z"
    },
    "papermill": {
     "duration": 0.031962,
     "end_time": "2024-03-20T04:23:36.814263",
     "exception": false,
     "start_time": "2024-03-20T04:23:36.782301",
     "status": "completed"
    },
    "tags": []
   },
   "outputs": [
    {
     "data": {
      "text/plain": [
       "array([1, 0], dtype=int64)"
      ]
     },
     "execution_count": 15,
     "metadata": {},
     "output_type": "execute_result"
    }
   ],
   "source": [
    " #Patient has lung cancer = 1 , Patient not having lung cancer = 0\n",
    "df['LUNG_CANCER'].unique()"
   ]
  },
  {
   "cell_type": "code",
   "execution_count": 16,
   "id": "38427616",
   "metadata": {
    "execution": {
     "iopub.execute_input": "2024-03-20T04:23:36.856418Z",
     "iopub.status.busy": "2024-03-20T04:23:36.855719Z",
     "iopub.status.idle": "2024-03-20T04:23:36.865525Z",
     "shell.execute_reply": "2024-03-20T04:23:36.864440Z"
    },
    "papermill": {
     "duration": 0.033777,
     "end_time": "2024-03-20T04:23:36.867960",
     "exception": false,
     "start_time": "2024-03-20T04:23:36.834183",
     "status": "completed"
    },
    "tags": []
   },
   "outputs": [
    {
     "data": {
      "text/plain": [
       "1    238\n",
       "0     38\n",
       "Name: LUNG_CANCER, dtype: int64"
      ]
     },
     "execution_count": 16,
     "metadata": {},
     "output_type": "execute_result"
    }
   ],
   "source": [
    "# Canceled=1, Not canceled= 0\n",
    "df['LUNG_CANCER'].value_counts()"
   ]
  },
  {
   "cell_type": "markdown",
   "id": "35598b90",
   "metadata": {
    "papermill": {
     "duration": 0.081888,
     "end_time": "2024-03-20T04:23:36.970266",
     "exception": false,
     "start_time": "2024-03-20T04:23:36.888378",
     "status": "completed"
    },
    "tags": []
   },
   "source": [
    "# Show value counts for each coluumn"
   ]
  },
  {
   "cell_type": "code",
   "execution_count": 17,
   "id": "55dd195b",
   "metadata": {
    "execution": {
     "iopub.execute_input": "2024-03-20T04:23:37.012652Z",
     "iopub.status.busy": "2024-03-20T04:23:37.012282Z",
     "iopub.status.idle": "2024-03-20T04:23:37.030221Z",
     "shell.execute_reply": "2024-03-20T04:23:37.028906Z"
    },
    "papermill": {
     "duration": 0.043125,
     "end_time": "2024-03-20T04:23:37.033525",
     "exception": false,
     "start_time": "2024-03-20T04:23:36.990400",
     "status": "completed"
    },
    "tags": []
   },
   "outputs": [
    {
     "name": "stdout",
     "output_type": "stream",
     "text": [
      "Counts for GENDER:\n",
      "0    142\n",
      "1    134\n",
      "Name: GENDER, dtype: int64\n",
      "============================================================\n",
      "Counts for AGE:\n",
      "64    18\n",
      "60    16\n",
      "56    16\n",
      "62    16\n",
      "59    15\n",
      "63    15\n",
      "61    14\n",
      "70    14\n",
      "67    11\n",
      "55    10\n",
      "72    10\n",
      "69    10\n",
      "57     9\n",
      "77     9\n",
      "71     9\n",
      "68     9\n",
      "58     8\n",
      "54     7\n",
      "74     6\n",
      "65     5\n",
      "51     5\n",
      "75     5\n",
      "53     4\n",
      "52     4\n",
      "66     4\n",
      "73     4\n",
      "49     3\n",
      "76     3\n",
      "47     3\n",
      "48     2\n",
      "81     2\n",
      "78     2\n",
      "44     2\n",
      "38     1\n",
      "39     1\n",
      "87     1\n",
      "46     1\n",
      "79     1\n",
      "21     1\n",
      "Name: AGE, dtype: int64\n",
      "============================================================\n",
      "Counts for SMOKING:\n",
      "2    150\n",
      "1    126\n",
      "Name: SMOKING, dtype: int64\n",
      "============================================================\n",
      "Counts for YELLOW_FINGERS:\n",
      "2    159\n",
      "1    117\n",
      "Name: YELLOW_FINGERS, dtype: int64\n",
      "============================================================\n",
      "Counts for ANXIETY:\n",
      "1    139\n",
      "2    137\n",
      "Name: ANXIETY, dtype: int64\n",
      "============================================================\n",
      "Counts for PEER_PRESSURE:\n",
      "2    140\n",
      "1    136\n",
      "Name: PEER_PRESSURE, dtype: int64\n",
      "============================================================\n",
      "Counts for CHRONIC DISEASE:\n",
      "2    144\n",
      "1    132\n",
      "Name: CHRONIC DISEASE, dtype: int64\n",
      "============================================================\n",
      "Counts for FATIGUE :\n",
      "2    183\n",
      "1     93\n",
      "Name: FATIGUE , dtype: int64\n",
      "============================================================\n",
      "Counts for ALLERGY :\n",
      "2    151\n",
      "1    125\n",
      "Name: ALLERGY , dtype: int64\n",
      "============================================================\n",
      "Counts for WHEEZING:\n",
      "2    151\n",
      "1    125\n",
      "Name: WHEEZING, dtype: int64\n",
      "============================================================\n",
      "Counts for ALCOHOL CONSUMING:\n",
      "2    152\n",
      "1    124\n",
      "Name: ALCOHOL CONSUMING, dtype: int64\n",
      "============================================================\n",
      "Counts for COUGHING:\n",
      "2    159\n",
      "1    117\n",
      "Name: COUGHING, dtype: int64\n",
      "============================================================\n",
      "Counts for SHORTNESS OF BREATH:\n",
      "2    174\n",
      "1    102\n",
      "Name: SHORTNESS OF BREATH, dtype: int64\n",
      "============================================================\n",
      "Counts for SWALLOWING DIFFICULTY:\n",
      "1    147\n",
      "2    129\n",
      "Name: SWALLOWING DIFFICULTY, dtype: int64\n",
      "============================================================\n",
      "Counts for CHEST PAIN:\n",
      "2    154\n",
      "1    122\n",
      "Name: CHEST PAIN, dtype: int64\n",
      "============================================================\n"
     ]
    }
   ],
   "source": [
    "coluumns =['GENDER', 'AGE', 'SMOKING','YELLOW_FINGERS', 'ANXIETY',\n",
    "       'PEER_PRESSURE', 'CHRONIC DISEASE', 'FATIGUE ', 'ALLERGY ', 'WHEEZING',\n",
    "       'ALCOHOL CONSUMING', 'COUGHING', 'SHORTNESS OF BREATH',\n",
    "       'SWALLOWING DIFFICULTY', 'CHEST PAIN']\n",
    "    \n",
    "    \n",
    "for col in coluumns:\n",
    "    d_type = df[col].dtype\n",
    "    \n",
    "    counts =df[col].value_counts()\n",
    "    print(f\"Counts for {col}:\")\n",
    "    print(counts)\n",
    "    print(\"============================================================\")"
   ]
  },
  {
   "cell_type": "markdown",
   "id": "0f29f96b",
   "metadata": {
    "papermill": {
     "duration": 0.020453,
     "end_time": "2024-03-20T04:23:37.074480",
     "exception": false,
     "start_time": "2024-03-20T04:23:37.054027",
     "status": "completed"
    },
    "tags": []
   },
   "source": [
    "# Data Visualization"
   ]
  },
  {
   "cell_type": "markdown",
   "id": "3d24b9c0",
   "metadata": {
    "papermill": {
     "duration": 0.019983,
     "end_time": "2024-03-20T04:23:37.115135",
     "exception": false,
     "start_time": "2024-03-20T04:23:37.095152",
     "status": "completed"
    },
    "tags": []
   },
   "source": [
    "Distribution of numerical columns"
   ]
  },
  {
   "cell_type": "code",
   "execution_count": 18,
   "id": "5a5cb21e",
   "metadata": {
    "execution": {
     "iopub.execute_input": "2024-03-20T04:23:37.157977Z",
     "iopub.status.busy": "2024-03-20T04:23:37.157564Z",
     "iopub.status.idle": "2024-03-20T04:23:43.360624Z",
     "shell.execute_reply": "2024-03-20T04:23:43.359761Z"
    },
    "papermill": {
     "duration": 6.229155,
     "end_time": "2024-03-20T04:23:43.364714",
     "exception": false,
     "start_time": "2024-03-20T04:23:37.135559",
     "status": "completed"
    },
    "tags": []
   },
   "outputs": [
    {
     "data": {
      "image/png": "[encoded data removed]",
      "text/plain": [
       "<Figure size 720x1440 with 15 Axes>"
      ]
     },
     "metadata": {
      "needs_background": "light"
     },
     "output_type": "display_data"
    }
   ],
   "source": [
    "num_list=['GENDER', 'AGE', 'SMOKING', 'YELLOW_FINGERS', 'ANXIETY',\n",
    "       'PEER_PRESSURE', 'CHRONIC DISEASE', 'FATIGUE ', 'ALLERGY ', 'WHEEZING',\n",
    "       'ALCOHOL CONSUMING', 'COUGHING', 'SHORTNESS OF BREATH',\n",
    "       'SWALLOWING DIFFICULTY', 'CHEST PAIN']\n",
    "fig = plt.figure(figsize=(10,20))\n",
    "\n",
    "for i in range(len(num_list)):\n",
    "    plt.subplot(6,3,i+1)\n",
    "    plt.title(num_list[i])\n",
    "    sns.histplot(data=df,x=df[num_list[i]],hue='LUNG_CANCER')\n",
    "\n",
    "plt.tight_layout()"
   ]
  },
  {
   "cell_type": "code",
   "execution_count": 19,
   "id": "a53b8c2c",
   "metadata": {
    "execution": {
     "iopub.execute_input": "2024-03-20T04:23:43.413302Z",
     "iopub.status.busy": "2024-03-20T04:23:43.412671Z",
     "iopub.status.idle": "2024-03-20T04:23:43.661281Z",
     "shell.execute_reply": "2024-03-20T04:23:43.660155Z"
    },
    "papermill": {
     "duration": 0.27579,
     "end_time": "2024-03-20T04:23:43.663662",
     "exception": false,
     "start_time": "2024-03-20T04:23:43.387872",
     "status": "completed"
    },
    "tags": []
   },
   "outputs": [
    {
     "data": {
      "image/png": "[encoded data removed]",
      "text/plain": [
       "<Figure size 432x288 with 1 Axes>"
      ]
     },
     "metadata": {
      "needs_background": "light"
     },
     "output_type": "display_data"
    }
   ],
   "source": [
    "#target column\n",
    "sns.countplot(x=df['LUNG_CANCER'])\n",
    "plt.title('LUNG CANCER');"
   ]
  },
  {
   "cell_type": "code",
   "execution_count": 20,
   "id": "aca13660",
   "metadata": {
    "execution": {
     "iopub.execute_input": "2024-03-20T04:23:43.713537Z",
     "iopub.status.busy": "2024-03-20T04:23:43.712326Z",
     "iopub.status.idle": "2024-03-20T04:23:43.866424Z",
     "shell.execute_reply": "2024-03-20T04:23:43.864923Z"
    },
    "papermill": {
     "duration": 0.181775,
     "end_time": "2024-03-20T04:23:43.869129",
     "exception": false,
     "start_time": "2024-03-20T04:23:43.687354",
     "status": "completed"
    },
    "tags": []
   },
   "outputs": [
    {
     "data": {
      "image/png": "[encoded data removed]",
      "text/plain": [
       "<Figure size 432x288 with 1 Axes>"
      ]
     },
     "metadata": {},
     "output_type": "display_data"
    }
   ],
   "source": [
    "#Another graph for \"is_canceled\" column \n",
    "plt.pie(df.groupby(by=[\"LUNG_CANCER\"]).size(), labels = df[\"LUNG_CANCER\"].unique(), autopct = \"%0.2f\")\n",
    "plt.title('Lung Cancer Disribution');\n",
    "plt.show()"
   ]
  },
  {
   "cell_type": "markdown",
   "id": "28f316b5",
   "metadata": {
    "papermill": {
     "duration": 0.023803,
     "end_time": "2024-03-20T04:23:43.917060",
     "exception": false,
     "start_time": "2024-03-20T04:23:43.893257",
     "status": "completed"
    },
    "tags": []
   },
   "source": [
    "Gender Disription"
   ]
  },
  {
   "cell_type": "code",
   "execution_count": 21,
   "id": "e5a8b8be",
   "metadata": {
    "execution": {
     "iopub.execute_input": "2024-03-20T04:23:43.967107Z",
     "iopub.status.busy": "2024-03-20T04:23:43.966672Z",
     "iopub.status.idle": "2024-03-20T04:23:44.069817Z",
     "shell.execute_reply": "2024-03-20T04:23:44.068638Z"
    },
    "papermill": {
     "duration": 0.131177,
     "end_time": "2024-03-20T04:23:44.072464",
     "exception": false,
     "start_time": "2024-03-20T04:23:43.941287",
     "status": "completed"
    },
    "tags": []
   },
   "outputs": [
    {
     "data": {
      "image/png": "[encoded data removed]",
      "text/plain": [
       "<Figure size 432x288 with 1 Axes>"
      ]
     },
     "metadata": {},
     "output_type": "display_data"
    }
   ],
   "source": [
    "plt.pie(df.groupby(by=[\"GENDER\"]).size(), labels = df[\"GENDER\"].unique(), autopct = \"%0.2f\")\n",
    "plt.title('Gender Disription')\n",
    "plt.show()"
   ]
  },
  {
   "cell_type": "markdown",
   "id": "58bdf729",
   "metadata": {
    "papermill": {
     "duration": 0.024297,
     "end_time": "2024-03-20T04:23:44.121401",
     "exception": false,
     "start_time": "2024-03-20T04:23:44.097104",
     "status": "completed"
    },
    "tags": []
   },
   "source": [
    "AGE Disription"
   ]
  },
  {
   "cell_type": "code",
   "execution_count": 22,
   "id": "2f04c8ad",
   "metadata": {
    "execution": {
     "iopub.execute_input": "2024-03-20T04:23:44.172602Z",
     "iopub.status.busy": "2024-03-20T04:23:44.171871Z",
     "iopub.status.idle": "2024-03-20T04:23:44.499479Z",
     "shell.execute_reply": "2024-03-20T04:23:44.498340Z"
    },
    "papermill": {
     "duration": 0.356072,
     "end_time": "2024-03-20T04:23:44.502063",
     "exception": false,
     "start_time": "2024-03-20T04:23:44.145991",
     "status": "completed"
    },
    "tags": []
   },
   "outputs": [
    {
     "data": {
      "text/plain": [
       "<AxesSubplot:xlabel='AGE', ylabel='Density'>"
      ]
     },
     "execution_count": 22,
     "metadata": {},
     "output_type": "execute_result"
    },
    {
     "data": {
      "image/png": "[encoded data removed]",
      "text/plain": [
       "<Figure size 432x288 with 1 Axes>"
      ]
     },
     "metadata": {
      "needs_background": "light"
     },
     "output_type": "display_data"
    }
   ],
   "source": [
    "sns.distplot(df['AGE'])"
   ]
  },
  {
   "cell_type": "code",
   "execution_count": 23,
   "id": "e8a872a9",
   "metadata": {
    "execution": {
     "iopub.execute_input": "2024-03-20T04:23:44.554434Z",
     "iopub.status.busy": "2024-03-20T04:23:44.553375Z",
     "iopub.status.idle": "2024-03-20T04:23:44.779048Z",
     "shell.execute_reply": "2024-03-20T04:23:44.778163Z"
    },
    "papermill": {
     "duration": 0.25408,
     "end_time": "2024-03-20T04:23:44.781144",
     "exception": false,
     "start_time": "2024-03-20T04:23:44.527064",
     "status": "completed"
    },
    "tags": []
   },
   "outputs": [
    {
     "data": {
      "image/png": "[encoded data removed]",
      "text/plain": [
       "<Figure size 432x288 with 1 Axes>"
      ]
     },
     "metadata": {
      "needs_background": "light"
     },
     "output_type": "display_data"
    }
   ],
   "source": [
    "sns.countplot(x=df['ALCOHOL CONSUMING'])\n",
    "plt.title('ALCOHOL CONSUMING');"
   ]
  },
  {
   "cell_type": "code",
   "execution_count": 24,
   "id": "20dfcf8d",
   "metadata": {
    "execution": {
     "iopub.execute_input": "2024-03-20T04:23:44.833915Z",
     "iopub.status.busy": "2024-03-20T04:23:44.833464Z",
     "iopub.status.idle": "2024-03-20T04:23:45.106103Z",
     "shell.execute_reply": "2024-03-20T04:23:45.104815Z"
    },
    "papermill": {
     "duration": 0.30249,
     "end_time": "2024-03-20T04:23:45.108719",
     "exception": false,
     "start_time": "2024-03-20T04:23:44.806229",
     "status": "completed"
    },
    "tags": []
   },
   "outputs": [
    {
     "data": {
      "image/png": "[encoded data removed]",
      "text/plain": [
       "<Figure size 864x432 with 1 Axes>"
      ]
     },
     "metadata": {
      "needs_background": "light"
     },
     "output_type": "display_data"
    }
   ],
   "source": [
    "plt.figure(figsize=(12, 6))\n",
    "\n",
    "sns.countplot(x='ALCOHOL CONSUMING',hue=\"LUNG_CANCER\", data=df,palette='Pastel1')\n",
    "plt.title(\"Lung Cancer with Alochol consumption\",fontweight=\"bold\", size=10)\n",
    "plt.show()\n"
   ]
  },
  {
   "cell_type": "code",
   "execution_count": 25,
   "id": "1e8613b8",
   "metadata": {
    "execution": {
     "iopub.execute_input": "2024-03-20T04:23:45.164075Z",
     "iopub.status.busy": "2024-03-20T04:23:45.163302Z",
     "iopub.status.idle": "2024-03-20T04:23:45.418858Z",
     "shell.execute_reply": "2024-03-20T04:23:45.417833Z"
    },
    "papermill": {
     "duration": 0.285818,
     "end_time": "2024-03-20T04:23:45.421399",
     "exception": false,
     "start_time": "2024-03-20T04:23:45.135581",
     "status": "completed"
    },
    "tags": []
   },
   "outputs": [
    {
     "data": {
      "image/png": "[encoded data removed]",
      "text/plain": [
       "<Figure size 432x288 with 1 Axes>"
      ]
     },
     "metadata": {
      "needs_background": "light"
     },
     "output_type": "display_data"
    }
   ],
   "source": [
    "sns.countplot(x=df['SMOKING'])\n",
    "plt.title('SMOKING');"
   ]
  },
  {
   "cell_type": "code",
   "execution_count": 26,
   "id": "719dec8a",
   "metadata": {
    "execution": {
     "iopub.execute_input": "2024-03-20T04:23:45.476609Z",
     "iopub.status.busy": "2024-03-20T04:23:45.475841Z",
     "iopub.status.idle": "2024-03-20T04:23:45.782817Z",
     "shell.execute_reply": "2024-03-20T04:23:45.781901Z"
    },
    "papermill": {
     "duration": 0.337183,
     "end_time": "2024-03-20T04:23:45.785051",
     "exception": false,
     "start_time": "2024-03-20T04:23:45.447868",
     "status": "completed"
    },
    "tags": []
   },
   "outputs": [
    {
     "data": {
      "image/png": "[encoded data removed]",
      "text/plain": [
       "<Figure size 864x432 with 1 Axes>"
      ]
     },
     "metadata": {
      "needs_background": "light"
     },
     "output_type": "display_data"
    }
   ],
   "source": [
    "plt.figure(figsize=(12, 6))\n",
    "\n",
    "sns.countplot(x='SMOKING',hue=\"LUNG_CANCER\", data=df,palette='Pastel1')\n",
    "plt.title(\"Relation between smoking and lung cancer\",fontweight=\"bold\", size=10)\n",
    "plt.show()\n"
   ]
  },
  {
   "cell_type": "code",
   "execution_count": 27,
   "id": "4e9d7b3d",
   "metadata": {
    "execution": {
     "iopub.execute_input": "2024-03-20T04:23:45.841410Z",
     "iopub.status.busy": "2024-03-20T04:23:45.840614Z",
     "iopub.status.idle": "2024-03-20T04:23:46.119823Z",
     "shell.execute_reply": "2024-03-20T04:23:46.118326Z"
    },
    "papermill": {
     "duration": 0.310909,
     "end_time": "2024-03-20T04:23:46.123065",
     "exception": false,
     "start_time": "2024-03-20T04:23:45.812156",
     "status": "completed"
    },
    "tags": []
   },
   "outputs": [
    {
     "data": {
      "image/png": "[encoded data removed]",
      "text/plain": [
       "<Figure size 432x288 with 1 Axes>"
      ]
     },
     "metadata": {
      "needs_background": "light"
     },
     "output_type": "display_data"
    }
   ],
   "source": [
    "sns.countplot(x=df['CHRONIC DISEASE'])\n",
    "plt.title('CHRONIC DISEASE');"
   ]
  },
  {
   "cell_type": "code",
   "execution_count": 28,
   "id": "126ce3d3",
   "metadata": {
    "execution": {
     "iopub.execute_input": "2024-03-20T04:23:46.180892Z",
     "iopub.status.busy": "2024-03-20T04:23:46.180386Z",
     "iopub.status.idle": "2024-03-20T04:23:46.489403Z",
     "shell.execute_reply": "2024-03-20T04:23:46.488235Z"
    },
    "papermill": {
     "duration": 0.341324,
     "end_time": "2024-03-20T04:23:46.492456",
     "exception": false,
     "start_time": "2024-03-20T04:23:46.151132",
     "status": "completed"
    },
    "tags": []
   },
   "outputs": [
    {
     "data": {
      "image/png": "[encoded data removed]",
      "text/plain": [
       "<Figure size 864x432 with 1 Axes>"
      ]
     },
     "metadata": {
      "needs_background": "light"
     },
     "output_type": "display_data"
    }
   ],
   "source": [
    "plt.figure(figsize=(12, 6))\n",
    "\n",
    "sns.countplot(x='CHRONIC DISEASE',hue=\"LUNG_CANCER\", data=df,palette='Pastel1')\n",
    "plt.title(\"Lung Cancer with CHRONIC DISEASE\",fontweight=\"bold\", size=10)\n",
    "plt.show()\n"
   ]
  },
  {
   "cell_type": "code",
   "execution_count": 29,
   "id": "f9812e3a",
   "metadata": {
    "execution": {
     "iopub.execute_input": "2024-03-20T04:23:46.550912Z",
     "iopub.status.busy": "2024-03-20T04:23:46.550448Z",
     "iopub.status.idle": "2024-03-20T04:23:47.888579Z",
     "shell.execute_reply": "2024-03-20T04:23:47.887090Z"
    },
    "papermill": {
     "duration": 1.371083,
     "end_time": "2024-03-20T04:23:47.892211",
     "exception": false,
     "start_time": "2024-03-20T04:23:46.521128",
     "status": "completed"
    },
    "tags": []
   },
   "outputs": [
    {
     "data": {
      "image/png": "[encoded data removed]",
      "text/plain": [
       "<Figure size 1080x1080 with 2 Axes>"
      ]
     },
     "metadata": {
      "needs_background": "light"
     },
     "output_type": "display_data"
    }
   ],
   "source": [
    "plt.figure(figsize = (15,15))\n",
    "sns.heatmap(df.corr(),annot=True, cbar=True, cmap='Blues', fmt='.1f');"
   ]
  },
  {
   "cell_type": "code",
   "execution_count": 30,
   "id": "a7fc19ee",
   "metadata": {
    "execution": {
     "iopub.execute_input": "2024-03-20T04:23:47.955299Z",
     "iopub.status.busy": "2024-03-20T04:23:47.954843Z",
     "iopub.status.idle": "2024-03-20T04:23:47.960763Z",
     "shell.execute_reply": "2024-03-20T04:23:47.959935Z"
    },
    "papermill": {
     "duration": 0.039302,
     "end_time": "2024-03-20T04:23:47.962779",
     "exception": false,
     "start_time": "2024-03-20T04:23:47.923477",
     "status": "completed"
    },
    "tags": []
   },
   "outputs": [],
   "source": [
    "X = df.drop('LUNG_CANCER', axis=1)\n",
    "y = df['LUNG_CANCER']"
   ]
  },
  {
   "cell_type": "code",
   "execution_count": 31,
   "id": "c47675dd",
   "metadata": {
    "execution": {
     "iopub.execute_input": "2024-03-20T04:23:48.025413Z",
     "iopub.status.busy": "2024-03-20T04:23:48.024642Z",
     "iopub.status.idle": "2024-03-20T04:23:48.032589Z",
     "shell.execute_reply": "2024-03-20T04:23:48.031728Z"
    },
    "papermill": {
     "duration": 0.041789,
     "end_time": "2024-03-20T04:23:48.035045",
     "exception": false,
     "start_time": "2024-03-20T04:23:47.993256",
     "status": "completed"
    },
    "tags": []
   },
   "outputs": [],
   "source": [
    "X_train , X_test , y_train , y_test = train_test_split(X , y , test_size=0.2 , random_state=42)"
   ]
  },
  {
   "cell_type": "markdown",
   "id": "a7a01cf4",
   "metadata": {
    "papermill": {
     "duration": 0.029763,
     "end_time": "2024-03-20T04:23:48.094754",
     "exception": false,
     "start_time": "2024-03-20T04:23:48.064991",
     "status": "completed"
    },
    "tags": []
   },
   "source": [
    "# SVM"
   ]
  },
  {
   "cell_type": "code",
   "execution_count": 32,
   "id": "8da6c50f",
   "metadata": {
    "execution": {
     "iopub.execute_input": "2024-03-20T04:23:48.157315Z",
     "iopub.status.busy": "2024-03-20T04:23:48.156917Z",
     "iopub.status.idle": "2024-03-20T04:23:48.180585Z",
     "shell.execute_reply": "2024-03-20T04:23:48.179338Z"
    },
    "papermill": {
     "duration": 0.058036,
     "end_time": "2024-03-20T04:23:48.183164",
     "exception": false,
     "start_time": "2024-03-20T04:23:48.125128",
     "status": "completed"
    },
    "tags": []
   },
   "outputs": [
    {
     "data": {
      "text/plain": [
       "SVC(kernel='linear')"
      ]
     },
     "execution_count": 32,
     "metadata": {},
     "output_type": "execute_result"
    }
   ],
   "source": [
    "from sklearn import svm\n",
    "svc = svm.SVC(kernel='linear')\n",
    "svc.fit(X_train, y_train)"
   ]
  },
  {
   "cell_type": "code",
   "execution_count": 33,
   "id": "b7287279",
   "metadata": {
    "execution": {
     "iopub.execute_input": "2024-03-20T04:23:48.248083Z",
     "iopub.status.busy": "2024-03-20T04:23:48.246980Z",
     "iopub.status.idle": "2024-03-20T04:23:48.257245Z",
     "shell.execute_reply": "2024-03-20T04:23:48.256423Z"
    },
    "papermill": {
     "duration": 0.045266,
     "end_time": "2024-03-20T04:23:48.259436",
     "exception": false,
     "start_time": "2024-03-20T04:23:48.214170",
     "status": "completed"
    },
    "tags": []
   },
   "outputs": [
    {
     "data": {
      "text/plain": [
       "0.9318181818181818"
      ]
     },
     "execution_count": 33,
     "metadata": {},
     "output_type": "execute_result"
    }
   ],
   "source": [
    "svc.score(X_train , y_train)"
   ]
  },
  {
   "cell_type": "code",
   "execution_count": 34,
   "id": "389364ef",
   "metadata": {
    "execution": {
     "iopub.execute_input": "2024-03-20T04:23:48.325701Z",
     "iopub.status.busy": "2024-03-20T04:23:48.325078Z",
     "iopub.status.idle": "2024-03-20T04:23:48.334702Z",
     "shell.execute_reply": "2024-03-20T04:23:48.333332Z"
    },
    "papermill": {
     "duration": 0.04708,
     "end_time": "2024-03-20T04:23:48.337542",
     "exception": false,
     "start_time": "2024-03-20T04:23:48.290462",
     "status": "completed"
    },
    "tags": []
   },
   "outputs": [
    {
     "data": {
      "text/plain": [
       "0.9285714285714286"
      ]
     },
     "execution_count": 34,
     "metadata": {},
     "output_type": "execute_result"
    }
   ],
   "source": [
    "svc_pred = svc.predict(X_test)\n",
    "svc_acc=accuracy_score(y_test , svc_pred)\n",
    "svc_acc"
   ]
  },
  {
   "cell_type": "code",
   "execution_count": 35,
   "id": "5e4ffbf0",
   "metadata": {
    "execution": {
     "iopub.execute_input": "2024-03-20T04:23:48.405345Z",
     "iopub.status.busy": "2024-03-20T04:23:48.404684Z",
     "iopub.status.idle": "2024-03-20T04:23:48.418526Z",
     "shell.execute_reply": "2024-03-20T04:23:48.417327Z"
    },
    "papermill": {
     "duration": 0.0519,
     "end_time": "2024-03-20T04:23:48.421076",
     "exception": false,
     "start_time": "2024-03-20T04:23:48.369176",
     "status": "completed"
    },
    "tags": []
   },
   "outputs": [
    {
     "name": "stdout",
     "output_type": "stream",
     "text": [
      "              precision    recall  f1-score   support\n",
      "\n",
      "           0       1.00      0.67      0.80        12\n",
      "           1       0.92      1.00      0.96        44\n",
      "\n",
      "    accuracy                           0.93        56\n",
      "   macro avg       0.96      0.83      0.88        56\n",
      "weighted avg       0.93      0.93      0.92        56\n",
      "\n"
     ]
    }
   ],
   "source": [
    "print(classification_report(y_test , svc_pred))"
   ]
  },
  {
   "cell_type": "code",
   "execution_count": 36,
   "id": "592e7087",
   "metadata": {
    "execution": {
     "iopub.execute_input": "2024-03-20T04:23:48.486862Z",
     "iopub.status.busy": "2024-03-20T04:23:48.486049Z",
     "iopub.status.idle": "2024-03-20T04:23:48.986524Z",
     "shell.execute_reply": "2024-03-20T04:23:48.985352Z"
    },
    "papermill": {
     "duration": 0.536273,
     "end_time": "2024-03-20T04:23:48.989247",
     "exception": false,
     "start_time": "2024-03-20T04:23:48.452974",
     "status": "completed"
    },
    "tags": []
   },
   "outputs": [
    {
     "data": {
      "text/plain": [
       "Text(69.0, 0.5, 'Truh')"
      ]
     },
     "execution_count": 36,
     "metadata": {},
     "output_type": "execute_result"
    },
    {
     "data": {
      "image/png": "[encoded data removed]",
      "text/plain": [
       "<Figure size 720x504 with 2 Axes>"
      ]
     },
     "metadata": {
      "needs_background": "light"
     },
     "output_type": "display_data"
    }
   ],
   "source": [
    "cm1 = confusion_matrix(y_test,svc_pred)\n",
    "import matplotlib.pyplot as plt\n",
    "import seaborn as sns\n",
    "plt.figure(figsize=(10,7))\n",
    "sns.heatmap(cm1,annot=True)\n",
    "plt.xlabel('predicted')\n",
    "plt.ylabel('Truh')"
   ]
  },
  {
   "cell_type": "markdown",
   "id": "cf96a35a",
   "metadata": {
    "papermill": {
     "duration": 0.031718,
     "end_time": "2024-03-20T04:23:49.053269",
     "exception": false,
     "start_time": "2024-03-20T04:23:49.021551",
     "status": "completed"
    },
    "tags": []
   },
   "source": [
    "# Random Forest"
   ]
  },
  {
   "cell_type": "code",
   "execution_count": 37,
   "id": "e408a840",
   "metadata": {
    "execution": {
     "iopub.execute_input": "2024-03-20T04:23:49.119985Z",
     "iopub.status.busy": "2024-03-20T04:23:49.119272Z",
     "iopub.status.idle": "2024-03-20T04:23:49.361796Z",
     "shell.execute_reply": "2024-03-20T04:23:49.360161Z"
    },
    "papermill": {
     "duration": 0.279803,
     "end_time": "2024-03-20T04:23:49.364907",
     "exception": false,
     "start_time": "2024-03-20T04:23:49.085104",
     "status": "completed"
    },
    "tags": []
   },
   "outputs": [
    {
     "data": {
      "text/plain": [
       "RandomForestClassifier()"
      ]
     },
     "execution_count": 37,
     "metadata": {},
     "output_type": "execute_result"
    }
   ],
   "source": [
    "RF_model = RandomForestClassifier(n_estimators=100)\n",
    "RF_model.fit(X_train , y_train)"
   ]
  },
  {
   "cell_type": "code",
   "execution_count": 38,
   "id": "7a1f743f",
   "metadata": {
    "execution": {
     "iopub.execute_input": "2024-03-20T04:23:49.443405Z",
     "iopub.status.busy": "2024-03-20T04:23:49.442518Z",
     "iopub.status.idle": "2024-03-20T04:23:49.467240Z",
     "shell.execute_reply": "2024-03-20T04:23:49.466058Z"
    },
    "papermill": {
     "duration": 0.068779,
     "end_time": "2024-03-20T04:23:49.470597",
     "exception": false,
     "start_time": "2024-03-20T04:23:49.401818",
     "status": "completed"
    },
    "tags": []
   },
   "outputs": [
    {
     "data": {
      "text/plain": [
       "1.0"
      ]
     },
     "execution_count": 38,
     "metadata": {},
     "output_type": "execute_result"
    }
   ],
   "source": [
    "RF_model.score(X_train , y_train)"
   ]
  },
  {
   "cell_type": "code",
   "execution_count": 39,
   "id": "82e94227",
   "metadata": {
    "execution": {
     "iopub.execute_input": "2024-03-20T04:23:49.538965Z",
     "iopub.status.busy": "2024-03-20T04:23:49.538221Z",
     "iopub.status.idle": "2024-03-20T04:23:49.555139Z",
     "shell.execute_reply": "2024-03-20T04:23:49.554040Z"
    },
    "papermill": {
     "duration": 0.052706,
     "end_time": "2024-03-20T04:23:49.557590",
     "exception": false,
     "start_time": "2024-03-20T04:23:49.504884",
     "status": "completed"
    },
    "tags": []
   },
   "outputs": [
    {
     "data": {
      "text/plain": [
       "0.8392857142857143"
      ]
     },
     "execution_count": 39,
     "metadata": {},
     "output_type": "execute_result"
    }
   ],
   "source": [
    "RF_pred =RF_model.predict(X_test)\n",
    "RF_acc=accuracy_score(y_test , RF_pred)\n",
    "RF_acc"
   ]
  },
  {
   "cell_type": "code",
   "execution_count": 40,
   "id": "7a95d234",
   "metadata": {
    "execution": {
     "iopub.execute_input": "2024-03-20T04:23:49.624247Z",
     "iopub.status.busy": "2024-03-20T04:23:49.623799Z",
     "iopub.status.idle": "2024-03-20T04:23:49.641129Z",
     "shell.execute_reply": "2024-03-20T04:23:49.639527Z"
    },
    "papermill": {
     "duration": 0.053676,
     "end_time": "2024-03-20T04:23:49.643812",
     "exception": false,
     "start_time": "2024-03-20T04:23:49.590136",
     "status": "completed"
    },
    "tags": []
   },
   "outputs": [
    {
     "name": "stdout",
     "output_type": "stream",
     "text": [
      "              precision    recall  f1-score   support\n",
      "\n",
      "           0       0.80      0.33      0.47        12\n",
      "           1       0.84      0.98      0.91        44\n",
      "\n",
      "    accuracy                           0.84        56\n",
      "   macro avg       0.82      0.66      0.69        56\n",
      "weighted avg       0.83      0.84      0.81        56\n",
      "\n"
     ]
    }
   ],
   "source": [
    "print(classification_report(y_test , RF_pred))"
   ]
  },
  {
   "cell_type": "code",
   "execution_count": 41,
   "id": "278dd13d",
   "metadata": {
    "execution": {
     "iopub.execute_input": "2024-03-20T04:23:49.710264Z",
     "iopub.status.busy": "2024-03-20T04:23:49.709846Z",
     "iopub.status.idle": "2024-03-20T04:23:50.070285Z",
     "shell.execute_reply": "2024-03-20T04:23:50.068985Z"
    },
    "papermill": {
     "duration": 0.396912,
     "end_time": "2024-03-20T04:23:50.073030",
     "exception": false,
     "start_time": "2024-03-20T04:23:49.676118",
     "status": "completed"
    },
    "tags": []
   },
   "outputs": [
    {
     "data": {
      "text/plain": [
       "Text(69.0, 0.5, 'Truh')"
      ]
     },
     "execution_count": 41,
     "metadata": {},
     "output_type": "execute_result"
    },
    {
     "data": {
      "image/png": "[encoded data removed]",
      "text/plain": [
       "<Figure size 720x504 with 2 Axes>"
      ]
     },
     "metadata": {
      "needs_background": "light"
     },
     "output_type": "display_data"
    }
   ],
   "source": [
    "cm2 = confusion_matrix(y_test,RF_pred)\n",
    "plt.figure(figsize=(10,7))\n",
    "sns.heatmap(cm1,annot=True)\n",
    "plt.xlabel('predicted')\n",
    "plt.ylabel('Truh')"
   ]
  },
  {
   "cell_type": "markdown",
   "id": "76317d67",
   "metadata": {
    "papermill": {
     "duration": 0.033637,
     "end_time": "2024-03-20T04:23:50.139808",
     "exception": false,
     "start_time": "2024-03-20T04:23:50.106171",
     "status": "completed"
    },
    "tags": []
   },
   "source": [
    "# Decision Tree"
   ]
  },
  {
   "cell_type": "code",
   "execution_count": 42,
   "id": "cc71798a",
   "metadata": {
    "execution": {
     "iopub.execute_input": "2024-03-20T04:23:50.208534Z",
     "iopub.status.busy": "2024-03-20T04:23:50.207917Z",
     "iopub.status.idle": "2024-03-20T04:23:50.217799Z",
     "shell.execute_reply": "2024-03-20T04:23:50.216937Z"
    },
    "papermill": {
     "duration": 0.04696,
     "end_time": "2024-03-20T04:23:50.219974",
     "exception": false,
     "start_time": "2024-03-20T04:23:50.173014",
     "status": "completed"
    },
    "tags": []
   },
   "outputs": [
    {
     "data": {
      "text/plain": [
       "DecisionTreeClassifier()"
      ]
     },
     "execution_count": 42,
     "metadata": {},
     "output_type": "execute_result"
    }
   ],
   "source": [
    "dt = DecisionTreeClassifier()\n",
    "dt.fit(X_train, y_train)"
   ]
  },
  {
   "cell_type": "code",
   "execution_count": 43,
   "id": "57fb7390",
   "metadata": {
    "execution": {
     "iopub.execute_input": "2024-03-20T04:23:50.289547Z",
     "iopub.status.busy": "2024-03-20T04:23:50.288767Z",
     "iopub.status.idle": "2024-03-20T04:23:50.298144Z",
     "shell.execute_reply": "2024-03-20T04:23:50.297198Z"
    },
    "papermill": {
     "duration": 0.046777,
     "end_time": "2024-03-20T04:23:50.300594",
     "exception": false,
     "start_time": "2024-03-20T04:23:50.253817",
     "status": "completed"
    },
    "tags": []
   },
   "outputs": [
    {
     "data": {
      "text/plain": [
       "1.0"
      ]
     },
     "execution_count": 43,
     "metadata": {},
     "output_type": "execute_result"
    }
   ],
   "source": [
    "dt.score(X_train , y_train)"
   ]
  },
  {
   "cell_type": "code",
   "execution_count": 44,
   "id": "566b6f05",
   "metadata": {
    "execution": {
     "iopub.execute_input": "2024-03-20T04:23:50.372700Z",
     "iopub.status.busy": "2024-03-20T04:23:50.371983Z",
     "iopub.status.idle": "2024-03-20T04:23:50.378161Z",
     "shell.execute_reply": "2024-03-20T04:23:50.377344Z"
    },
    "papermill": {
     "duration": 0.044608,
     "end_time": "2024-03-20T04:23:50.380435",
     "exception": false,
     "start_time": "2024-03-20T04:23:50.335827",
     "status": "completed"
    },
    "tags": []
   },
   "outputs": [],
   "source": [
    "dt_pred = dt.predict(X_test)"
   ]
  },
  {
   "cell_type": "code",
   "execution_count": 45,
   "id": "f26125ac",
   "metadata": {
    "execution": {
     "iopub.execute_input": "2024-03-20T04:23:50.450512Z",
     "iopub.status.busy": "2024-03-20T04:23:50.449776Z",
     "iopub.status.idle": "2024-03-20T04:23:50.457035Z",
     "shell.execute_reply": "2024-03-20T04:23:50.456147Z"
    },
    "papermill": {
     "duration": 0.045569,
     "end_time": "2024-03-20T04:23:50.459416",
     "exception": false,
     "start_time": "2024-03-20T04:23:50.413847",
     "status": "completed"
    },
    "tags": []
   },
   "outputs": [
    {
     "data": {
      "text/plain": [
       "0.8928571428571429"
      ]
     },
     "execution_count": 45,
     "metadata": {},
     "output_type": "execute_result"
    }
   ],
   "source": [
    "DT_acc=accuracy_score(y_test , dt_pred)\n",
    "DT_acc"
   ]
  },
  {
   "cell_type": "code",
   "execution_count": 46,
   "id": "eb9ad92c",
   "metadata": {
    "execution": {
     "iopub.execute_input": "2024-03-20T04:23:50.529454Z",
     "iopub.status.busy": "2024-03-20T04:23:50.528703Z",
     "iopub.status.idle": "2024-03-20T04:23:50.542568Z",
     "shell.execute_reply": "2024-03-20T04:23:50.541205Z"
    },
    "papermill": {
     "duration": 0.051605,
     "end_time": "2024-03-20T04:23:50.545023",
     "exception": false,
     "start_time": "2024-03-20T04:23:50.493418",
     "status": "completed"
    },
    "tags": []
   },
   "outputs": [
    {
     "name": "stdout",
     "output_type": "stream",
     "text": [
      "              precision    recall  f1-score   support\n",
      "\n",
      "           0       1.00      0.50      0.67        12\n",
      "           1       0.88      1.00      0.94        44\n",
      "\n",
      "    accuracy                           0.89        56\n",
      "   macro avg       0.94      0.75      0.80        56\n",
      "weighted avg       0.91      0.89      0.88        56\n",
      "\n"
     ]
    }
   ],
   "source": [
    "print(classification_report(y_test , dt_pred))"
   ]
  },
  {
   "cell_type": "code",
   "execution_count": 47,
   "id": "caf1c40b",
   "metadata": {
    "execution": {
     "iopub.execute_input": "2024-03-20T04:23:50.614682Z",
     "iopub.status.busy": "2024-03-20T04:23:50.614263Z",
     "iopub.status.idle": "2024-03-20T04:23:50.967792Z",
     "shell.execute_reply": "2024-03-20T04:23:50.966934Z"
    },
    "papermill": {
     "duration": 0.391466,
     "end_time": "2024-03-20T04:23:50.970067",
     "exception": false,
     "start_time": "2024-03-20T04:23:50.578601",
     "status": "completed"
    },
    "tags": []
   },
   "outputs": [
    {
     "data": {
      "text/plain": [
       "Text(69.0, 0.5, 'Truth')"
      ]
     },
     "execution_count": 47,
     "metadata": {},
     "output_type": "execute_result"
    },
    {
     "data": {
      "image/png": "[encoded data removed]",
      "text/plain": [
       "<Figure size 720x504 with 2 Axes>"
      ]
     },
     "metadata": {
      "needs_background": "light"
     },
     "output_type": "display_data"
    }
   ],
   "source": [
    "cm3 = confusion_matrix(y_test,dt_pred)\n",
    "import matplotlib.pyplot as plt\n",
    "import seaborn as sns\n",
    "plt.figure(figsize=(10,7))\n",
    "sns.heatmap(cm3,annot=True)\n",
    "plt.xlabel('predicted')\n",
    "plt.ylabel('Truth')"
   ]
  },
  {
   "cell_type": "markdown",
   "id": "d5d68efe",
   "metadata": {
    "papermill": {
     "duration": 0.034187,
     "end_time": "2024-03-20T04:23:51.039490",
     "exception": false,
     "start_time": "2024-03-20T04:23:51.005303",
     "status": "completed"
    },
    "tags": []
   },
   "source": [
    "# Models scores"
   ]
  },
  {
   "cell_type": "code",
   "execution_count": 48,
   "id": "c06f4886",
   "metadata": {
    "execution": {
     "iopub.execute_input": "2024-03-20T04:23:51.112994Z",
     "iopub.status.busy": "2024-03-20T04:23:51.112319Z",
     "iopub.status.idle": "2024-03-20T04:23:51.125892Z",
     "shell.execute_reply": "2024-03-20T04:23:51.124763Z"
    },
    "papermill": {
     "duration": 0.053747,
     "end_time": "2024-03-20T04:23:51.128362",
     "exception": false,
     "start_time": "2024-03-20T04:23:51.074615",
     "status": "completed"
    },
    "tags": []
   },
   "outputs": [
    {
     "data": {
      "text/html": [
       "<div>\n",
       "<style scoped>\n",
       "    .dataframe tbody tr th:only-of-type {\n",
       "        vertical-align: middle;\n",
       "    }\n",
       "\n",
       "    .dataframe tbody tr th {\n",
       "        vertical-align: top;\n",
       "    }\n",
       "\n",
       "    .dataframe thead th {\n",
       "        text-align: right;\n",
       "    }\n",
       "</style>\n",
       "<table border=\"1\" class=\"dataframe\">\n",
       "  <thead>\n",
       "    <tr style=\"text-align: right;\">\n",
       "      <th></th>\n",
       "      <th>models</th>\n",
       "      <th>scores</th>\n",
       "    </tr>\n",
       "  </thead>\n",
       "  <tbody>\n",
       "    <tr>\n",
       "      <th>0</th>\n",
       "      <td>Random_forest</td>\n",
       "      <td>0.839286</td>\n",
       "    </tr>\n",
       "    <tr>\n",
       "      <th>2</th>\n",
       "      <td>Decsion_Treee</td>\n",
       "      <td>0.892857</td>\n",
       "    </tr>\n",
       "    <tr>\n",
       "      <th>1</th>\n",
       "      <td>SVC</td>\n",
       "      <td>0.928571</td>\n",
       "    </tr>\n",
       "  </tbody>\n",
       "</table>\n",
       "</div>"
      ],
      "text/plain": [
       "          models    scores\n",
       "0  Random_forest  0.839286\n",
       "2  Decsion_Treee  0.892857\n",
       "1            SVC  0.928571"
      ]
     },
     "execution_count": 48,
     "metadata": {},
     "output_type": "execute_result"
    }
   ],
   "source": [
    "models=pd.DataFrame({\n",
    "    'models':['Random_forest','SVC','Decsion_Treee'],\n",
    "    'scores':[RF_acc,svc_acc,DT_acc]})\n",
    "models.sort_values(by='scores',ascending=True)"
   ]
  }
 ],
 "metadata": {
  "kaggle": {
   "accelerator": "none",
   "dataSources": [
    {
     "datasetId": 2358610,
     "sourceId": 3974207,
     "sourceType": "datasetVersion"
    }
   ],
   "dockerImageVersionId": 30664,
   "isGpuEnabled": false,
   "isInternetEnabled": true,
   "language": "python",
   "sourceType": "notebook"
  },
  "kernelspec": {
   "display_name": "tensor",
   "language": "python",
   "name": "python3"
  },
  "language_info": {
   "codemirror_mode": {
    "name": "ipython",
    "version": 3
   },
   "file_extension": ".py",
   "mimetype": "text/x-python",
   "name": "python",
   "nbconvert_exporter": "python",
   "pygments_lexer": "ipython3",
   "version": "3.6.13"
  },
  "papermill": {
   "default_parameters": {},
   "duration": 22.214286,
   "end_time": "2024-03-20T04:23:51.986097",
   "environment_variables": {},
   "exception": null,
   "input_path": "__notebook__.ipynb",
   "output_path": "__notebook__.ipynb",
   "parameters": {},
   "start_time": "2024-03-20T04:23:29.771811",
   "version": "2.5.0"
  }
 },
 "nbformat": 4,
 "nbformat_minor": 5
}
